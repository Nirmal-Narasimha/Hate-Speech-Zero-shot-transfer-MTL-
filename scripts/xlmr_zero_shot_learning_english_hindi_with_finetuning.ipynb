{
 "cells": [
  {
   "cell_type": "code",
   "execution_count": 1,
   "id": "4605f362-3e8f-455a-855c-6513aab90181",
   "metadata": {},
   "outputs": [],
   "source": [
    "# Import necessary libraries\n",
    "from transformers import XLMRobertaTokenizer, XLMRobertaForSequenceClassification, Trainer, TrainingArguments\n",
    "from datasets import load_dataset, Dataset\n",
    "import torch\n",
    "import numpy as np\n",
    "import pandas as pd\n",
    "import evaluate\n",
    "import matplotlib.pyplot as plt\n",
    "from sklearn.metrics import confusion_matrix, ConfusionMatrixDisplay"
   ]
  },
  {
   "cell_type": "code",
   "execution_count": 2,
   "id": "a5d79115-7c46-479a-8594-9aed20bb27d3",
   "metadata": {},
   "outputs": [],
   "source": [
    "# Define model and tokenizer\n",
    "model_name = \"xlm-roberta-base\"\n",
    "tokenizer = XLMRobertaTokenizer.from_pretrained(model_name)\n",
    "# model = XLMRobertaForSequenceClassification.from_pretrained(model_name, num_labels=2)\n",
    "model = XLMRobertaForSequenceClassification.from_pretrained(\"./fine_tuned_model/final_model\")"
   ]
  },
  {
   "cell_type": "code",
   "execution_count": 12,
   "id": "7ee4a298-1f71-4be7-b43c-2f2b34f8a685",
   "metadata": {},
   "outputs": [],
   "source": [
    "# Load the training data (e.g., English hate speech data)\n",
    "dataset = load_dataset(\"hate_speech18\", \"english\")"
   ]
  },
  {
   "cell_type": "code",
   "execution_count": 13,
   "id": "6e61be4e-3c3d-4dd7-a342-f790749b475e",
   "metadata": {},
   "outputs": [],
   "source": [
    "# Tokenize the training and validation data\n",
    "def tokenize_data(example):\n",
    "    return tokenizer(example[\"text\"], truncation=True, padding='max_length', max_length=128)"
   ]
  },
  {
   "cell_type": "code",
   "execution_count": 6,
   "id": "e372c113-7239-4263-b851-92cda2554b26",
   "metadata": {},
   "outputs": [
    {
     "data": {
      "application/vnd.jupyter.widget-view+json": {
       "model_id": "14c888e69a2b4530874474d608e145b0",
       "version_major": 2,
       "version_minor": 0
      },
      "text/plain": [
       "Map:   0%|          | 0/8755 [00:00<?, ? examples/s]"
      ]
     },
     "metadata": {},
     "output_type": "display_data"
    },
    {
     "data": {
      "application/vnd.jupyter.widget-view+json": {
       "model_id": "6d601c2d61fc474f9b05db5ae76e5d01",
       "version_major": 2,
       "version_minor": 0
      },
      "text/plain": [
       "Map:   0%|          | 0/2189 [00:00<?, ? examples/s]"
      ]
     },
     "metadata": {},
     "output_type": "display_data"
    }
   ],
   "source": [
    "# Split the English data into training and validation sets\n",
    "train_test_split = dataset['train'].train_test_split(test_size=0.2)\n",
    "train_data = train_test_split['train'].map(tokenize_data, batched=True)\n",
    "val_data = train_test_split['test'].map(tokenize_data, batched=True)"
   ]
  },
  {
   "cell_type": "code",
   "execution_count": 7,
   "id": "c268a3fc-7c61-4edf-bfcc-381e2795d3e1",
   "metadata": {},
   "outputs": [],
   "source": [
    "# Prepare datasets for PyTorch\n",
    "train_data.set_format(type='torch', columns=['input_ids', 'attention_mask', 'label'])\n",
    "val_data.set_format(type='torch', columns=['input_ids', 'attention_mask', 'label'])"
   ]
  },
  {
   "cell_type": "code",
   "execution_count": 8,
   "id": "3a5923ef-8595-4c85-8472-55e77dd9f377",
   "metadata": {},
   "outputs": [
    {
     "name": "stderr",
     "output_type": "stream",
     "text": [
      "/opt/anaconda3/lib/python3.11/site-packages/transformers/training_args.py:1545: FutureWarning: `evaluation_strategy` is deprecated and will be removed in version 4.46 of 🤗 Transformers. Use `eval_strategy` instead\n",
      "  warnings.warn(\n"
     ]
    }
   ],
   "source": [
    "# Define fine-tuning specific training arguments\n",
    "training_args = TrainingArguments(\n",
    "    output_dir=\"fine_tuned_model\",\n",
    "    evaluation_strategy=\"epoch\",\n",
    "    per_device_train_batch_size=16,\n",
    "    per_device_eval_batch_size=16,\n",
    "    num_train_epochs=5,  # Fine-tuning typically doesn’t need as many epochs\n",
    "    save_strategy=\"epoch\",\n",
    "    learning_rate=2e-5,  # Small learning rate for fine-tuning\n",
    "    logging_dir=\"./logs\",\n",
    ")\n",
    "\n",
    "# Re-initialize the Trainer for fine-tuning\n",
    "trainer = Trainer(\n",
    "    model=model,\n",
    "    args=training_args,\n",
    "    train_dataset=train_data,  # Use English or Marathi here\n",
    "    eval_dataset=val_data,\n",
    ")"
   ]
  },
  {
   "cell_type": "code",
   "execution_count": 9,
   "id": "adda0d34-91e0-4442-96a2-c705e5bc0467",
   "metadata": {},
   "outputs": [],
   "source": [
    "# Extract and plot the training and validation losses\n",
    "def plot_training_curves(log_history):\n",
    "    train_losses = [log[\"loss\"] for log in log_history if \"loss\" in log]\n",
    "    val_losses = [log[\"eval_loss\"] for log in log_history if \"eval_loss\" in log]\n",
    "    epochs = range(1, len(val_losses) + 1)\n",
    "\n",
    "    plt.figure(figsize=(6, 6))\n",
    "    plt.plot(epochs, train_losses[:len(epochs)], 'o-', label=\"Training Loss\")\n",
    "    plt.plot(epochs, val_losses, 's-', label=\"Validation Loss\")\n",
    "    plt.xlabel(\"Epoch\")\n",
    "    plt.ylabel(\"Loss\")\n",
    "    plt.title(\"Training and Validation Loss Over Epochs\")\n",
    "    plt.legend()\n",
    "    plt.show()"
   ]
  },
  {
   "cell_type": "code",
   "execution_count": null,
   "id": "7d199730-fb4a-4f54-9ffc-63795c87598d",
   "metadata": {},
   "outputs": [],
   "source": [
    "# Fine-tune the model\n",
    "trainer.train()\n",
    "trainer.save_model(\"fine_tuned_model/final_model\")"
   ]
  },
  {
   "cell_type": "code",
   "execution_count": null,
   "id": "467317dc-acbc-44c9-869e-c5a60ede6480",
   "metadata": {},
   "outputs": [],
   "source": [
    "plot_training_curves(trainer.state.log_history)"
   ]
  },
  {
   "cell_type": "code",
   "execution_count": 10,
   "id": "fe35a797-cb20-4849-9628-446a452c606e",
   "metadata": {},
   "outputs": [
    {
     "data": {
      "application/vnd.jupyter.widget-view+json": {
       "model_id": "633cb67dc9b2475fa33fd3808242d321",
       "version_major": 2,
       "version_minor": 0
      },
      "text/plain": [
       "Map:   0%|          | 0/1318 [00:00<?, ? examples/s]"
      ]
     },
     "metadata": {},
     "output_type": "display_data"
    }
   ],
   "source": [
    "# Load the HASOC 2019 Hindi test data for evaluation\n",
    "hasoc_test = pd.read_csv('data/hindi_dataset/hasoc2019_hi_test_gold_2919.tsv', sep='\\t')\n",
    "\n",
    "# Preprocess the Hindi test data\n",
    "hasoc_test = hasoc_test[['text', 'task_1']]\n",
    "label_mapping = {'HOF': 1, 'NOT': 0}\n",
    "hasoc_test['label'] = hasoc_test['task_1'].map(label_mapping)\n",
    "hasoc_test = hasoc_test.drop(columns=['task_1'])\n",
    "\n",
    "# Convert the test data into a Hugging Face dataset\n",
    "hasoc_test_dataset = Dataset.from_pandas(hasoc_test)\n",
    "\n",
    "# Tokenize the Hindi test data\n",
    "hasoc_test_dataset = hasoc_test_dataset.map(lambda x: tokenizer(x['text'], truncation=True, padding='max_length', max_length=128), batched=True)\n",
    "hasoc_test_dataset.set_format(type='torch', columns=['input_ids', 'attention_mask', 'label'])"
   ]
  },
  {
   "cell_type": "code",
   "execution_count": 11,
   "id": "955c00cc-b3f8-4631-9ecf-db4d78137060",
   "metadata": {},
   "outputs": [],
   "source": [
    "# Load the evaluation metric using the evaluate library\n",
    "metric = evaluate.load(\"f1\")\n",
    "\n",
    "# Define a function to compute metrics during evaluation\n",
    "def compute_metrics(pred):\n",
    "    logits, labels = pred\n",
    "    predictions = np.argmax(logits, axis=-1)\n",
    "    f1 = metric.compute(predictions=predictions, references=labels, average='macro')\n",
    "    accuracy = np.mean(predictions == labels)\n",
    "    return {\"macro_f1\": f1['f1'], \"accuracy\": accuracy}\n",
    "\n",
    "# # Define training arguments for evaluation\n",
    "# training_args = TrainingArguments(\n",
    "#     output_dir=\"results\",\n",
    "#     per_device_eval_batch_size=16,\n",
    "#     logging_dir=\"./logs\",\n",
    "#     logging_steps=10,\n",
    "# )\n",
    "\n",
    "# # Initialize the Trainer for evaluation\n",
    "# trainer = Trainer(\n",
    "#     model=model,\n",
    "#     args=training_args,\n",
    "#     eval_dataset=hasoc_test_dataset,\n",
    "#     compute_metrics=compute_metrics,\n",
    "# )\n",
    "model = XLMRobertaForSequenceClassification.from_pretrained(\"fine_tuned_model/final_model\")\n",
    "trainer = Trainer(\n",
    "    model=model,\n",
    "    eval_dataset=hasoc_test_dataset,\n",
    "    compute_metrics=compute_metrics,\n",
    ")\n"
   ]
  },
  {
   "cell_type": "code",
   "execution_count": 12,
   "id": "cf24b5d8-d3b6-4260-9886-4738a5fec673",
   "metadata": {},
   "outputs": [
    {
     "data": {
      "text/html": [],
      "text/plain": [
       "<IPython.core.display.HTML object>"
      ]
     },
     "metadata": {},
     "output_type": "display_data"
    },
    {
     "name": "stdout",
     "output_type": "stream",
     "text": [
      "Zero-Shot Evaluation Results On Hindi Data Using XLM-R: {'eval_loss': 1.6220399141311646, 'eval_model_preparation_time': 0.0043, 'eval_macro_f1': 0.6460767690407323, 'eval_accuracy': 0.6813353566009105, 'eval_runtime': 12.8845, 'eval_samples_per_second': 102.293, 'eval_steps_per_second': 12.806}\n"
     ]
    }
   ],
   "source": [
    "# Evaluate the model on the Hindi test data\n",
    "results = trainer.evaluate()\n",
    "\n",
    "# Print the evaluation results\n",
    "print(f\"Zero-Shot Evaluation Results On Hindi Data Using XLM-R: {results}\")"
   ]
  },
  {
   "cell_type": "code",
   "execution_count": 13,
   "id": "349f9a3e-b7df-438d-b3fa-b99f71347bf5",
   "metadata": {},
   "outputs": [
    {
     "data": {
      "image/png": "[encoded data removed]",
      "text/plain": [
       "<Figure size 640x480 with 2 Axes>"
      ]
     },
     "metadata": {},
     "output_type": "display_data"
    }
   ],
   "source": [
    "# Get predictions for confusion matrix\n",
    "predictions_output = trainer.predict(hasoc_test_dataset)\n",
    "pred_labels = np.argmax(predictions_output.predictions, axis=-1)\n",
    "\n",
    "# Compute confusion matrix\n",
    "cm = confusion_matrix(hasoc_test_dataset[\"label\"], pred_labels)\n",
    "disp = ConfusionMatrixDisplay(confusion_matrix=cm, display_labels=[\"Non-Hate\", \"Hate\"])\n",
    "disp.plot(cmap=plt.cm.Blues)\n",
    "plt.title(\"Confusion Matrix on Hindi Test Set\")\n",
    "plt.show()"
   ]
  },
  {
   "cell_type": "code",
   "execution_count": 4,
   "id": "1d3e4257-cade-4bba-8a8e-d9935dd035a8",
   "metadata": {},
   "outputs": [
    {
     "data": {
      "application/vnd.jupyter.widget-view+json": {
       "model_id": "6427bf6b60794627adf5fb4a3ece3b0c",
       "version_major": 2,
       "version_minor": 0
      },
      "text/plain": [
       "Map:   0%|          | 0/4665 [00:00<?, ? examples/s]"
      ]
     },
     "metadata": {},
     "output_type": "display_data"
    }
   ],
   "source": [
    "# Load the HASOC 2019 Hindi test data for evaluation\n",
    "hindi_test = pd.read_csv('data/hindi_dataset/hindi_dataset.tsv', sep='\\t')\n",
    "\n",
    "# Preprocess the Hindi test data\n",
    "hindi_test = hindi_test[['text', 'task_1']]\n",
    "label_mapping = {'HOF': 1, 'NOT': 0}\n",
    "hindi_test['label'] = hindi_test['task_1'].map(label_mapping)\n",
    "hindi_test = hindi_test.drop(columns=['task_1'])\n",
    "\n",
    "# Convert the test data into a Hugging Face dataset\n",
    "hindi_test_dataset = Dataset.from_pandas(hindi_test)\n",
    "\n",
    "# Tokenize the Hindi test data\n",
    "hindi_test_dataset = hindi_test_dataset.map(lambda x: tokenizer(x['text'], truncation=True, padding='max_length', max_length=128), batched=True)\n",
    "hindi_test_dataset.set_format(type='torch', columns=['input_ids', 'attention_mask', 'label'])"
   ]
  },
  {
   "cell_type": "code",
   "execution_count": 5,
   "id": "e71cf382-970f-4a51-912a-9eedbed0edb4",
   "metadata": {},
   "outputs": [],
   "source": [
    "# Load the evaluation metric using the evaluate library\n",
    "metric = evaluate.load(\"f1\")\n",
    "\n",
    "# Define a function to compute metrics during evaluation\n",
    "def compute_metrics(pred):\n",
    "    logits, labels = pred\n",
    "    predictions = np.argmax(logits, axis=-1)\n",
    "    f1 = metric.compute(predictions=predictions, references=labels, average='macro')\n",
    "    accuracy = np.mean(predictions == labels)\n",
    "    return {\"macro_f1\": f1['f1'], \"accuracy\": accuracy}\n",
    "\n",
    "# # Define training arguments for evaluation\n",
    "# training_args = TrainingArguments(\n",
    "#     output_dir=\"results\",\n",
    "#     per_device_eval_batch_size=16,\n",
    "#     logging_dir=\"./logs\",\n",
    "#     logging_steps=10,\n",
    "# )\n",
    "\n",
    "# # Initialize the Trainer for evaluation\n",
    "# trainer = Trainer(\n",
    "#     model=model,\n",
    "#     args=training_args,\n",
    "#     eval_dataset=hasoc_test_dataset,\n",
    "#     compute_metrics=compute_metrics,\n",
    "# )\n",
    "model = XLMRobertaForSequenceClassification.from_pretrained(\"fine_tuned_model/final_model\")\n",
    "trainer = Trainer(\n",
    "    model=model,\n",
    "    eval_dataset=hindi_test_dataset,\n",
    "    compute_metrics=compute_metrics,\n",
    ")\n"
   ]
  },
  {
   "cell_type": "code",
   "execution_count": 6,
   "id": "3e0e5aa4-f0f0-4989-8f92-ff932063d913",
   "metadata": {},
   "outputs": [
    {
     "data": {
      "text/html": [],
      "text/plain": [
       "<IPython.core.display.HTML object>"
      ]
     },
     "metadata": {},
     "output_type": "display_data"
    },
    {
     "name": "stdout",
     "output_type": "stream",
     "text": [
      "Zero-Shot Evaluation Results On Hindi Data Using XLM-R: {'eval_loss': 2.208066701889038, 'eval_model_preparation_time': 0.0015, 'eval_macro_f1': 0.5593029300330891, 'eval_accuracy': 0.594855305466238, 'eval_runtime': 44.7559, 'eval_samples_per_second': 104.232, 'eval_steps_per_second': 13.049}\n"
     ]
    }
   ],
   "source": [
    "# Evaluate the model on the Hindi test data\n",
    "results = trainer.evaluate()\n",
    "\n",
    "# Print the evaluation results\n",
    "print(f\"Zero-Shot Evaluation Results On Hindi Data Using XLM-R: {results}\")"
   ]
  },
  {
   "cell_type": "code",
   "execution_count": 7,
   "id": "ad90c9f0-4a23-481e-b5f5-8709671bfbbe",
   "metadata": {},
   "outputs": [
    {
     "data": {
      "image/png": "[encoded data removed]",
      "text/plain": [
       "<Figure size 640x480 with 2 Axes>"
      ]
     },
     "metadata": {},
     "output_type": "display_data"
    }
   ],
   "source": [
    "# Get predictions for confusion matrix\n",
    "predictions_output = trainer.predict(hindi_test_dataset)\n",
    "pred_labels = np.argmax(predictions_output.predictions, axis=-1)\n",
    "\n",
    "# Compute confusion matrix\n",
    "cm = confusion_matrix(hindi_test_dataset[\"label\"], pred_labels)\n",
    "disp = ConfusionMatrixDisplay(confusion_matrix=cm, display_labels=[\"Non-Hate\", \"Hate\"])\n",
    "disp.plot(cmap=plt.cm.Blues)\n",
    "plt.title(\"Confusion Matrix on Hindi Test Set\")\n",
    "plt.show()"
   ]
  },
  {
   "cell_type": "code",
   "execution_count": null,
   "id": "9fb054a7-c486-4b12-82bd-cf19d3d92b02",
   "metadata": {},
   "outputs": [],
   "source": []
  }
 ],
 "metadata": {
  "kernelspec": {
   "display_name": "Python 3",
   "language": "python",
   "name": "python3"
  },
  "language_info": {
   "codemirror_mode": {
    "name": "ipython",
    "version": 3
   },
   "file_extension": ".py",
   "mimetype": "text/x-python",
   "name": "python",
   "nbconvert_exporter": "python",
   "pygments_lexer": "ipython3",
   "version": "3.12.1"
  }
 },
 "nbformat": 4,
 "nbformat_minor": 5
}
